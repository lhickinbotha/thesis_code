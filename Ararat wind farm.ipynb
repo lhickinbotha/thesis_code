{
 "cells": [
  {
   "cell_type": "code",
   "execution_count": 1,
   "id": "efcb93e1",
   "metadata": {},
   "outputs": [],
   "source": [
    "import pandas as pd\n",
    "import numpy as np\n",
    "import matplotlib.pyplot as plt\n",
    "import datetime\n",
    "from datetime import datetime, timedelta\n",
    "import xarray\n",
    "import seaborn as sns\n",
    "from scipy import stats"
   ]
  },
  {
   "cell_type": "code",
   "execution_count": 2,
   "id": "0dcb72f4",
   "metadata": {},
   "outputs": [
    {
     "data": {
      "text/html": [
       "<div>\n",
       "<style scoped>\n",
       "    .dataframe tbody tr th:only-of-type {\n",
       "        vertical-align: middle;\n",
       "    }\n",
       "\n",
       "    .dataframe tbody tr th {\n",
       "        vertical-align: top;\n",
       "    }\n",
       "\n",
       "    .dataframe thead th {\n",
       "        text-align: right;\n",
       "    }\n",
       "</style>\n",
       "<table border=\"1\" class=\"dataframe\">\n",
       "  <thead>\n",
       "    <tr style=\"text-align: right;\">\n",
       "      <th></th>\n",
       "      <th>SETTLEMENTDATE</th>\n",
       "      <th>ARWF1</th>\n",
       "    </tr>\n",
       "  </thead>\n",
       "  <tbody>\n",
       "    <tr>\n",
       "      <th>0</th>\n",
       "      <td>2016-06-23 00:05:00</td>\n",
       "      <td>0.0</td>\n",
       "    </tr>\n",
       "    <tr>\n",
       "      <th>1</th>\n",
       "      <td>2016-06-23 00:10:00</td>\n",
       "      <td>0.0</td>\n",
       "    </tr>\n",
       "    <tr>\n",
       "      <th>2</th>\n",
       "      <td>2016-06-23 00:15:00</td>\n",
       "      <td>0.0</td>\n",
       "    </tr>\n",
       "    <tr>\n",
       "      <th>3</th>\n",
       "      <td>2016-06-23 00:20:00</td>\n",
       "      <td>0.0</td>\n",
       "    </tr>\n",
       "    <tr>\n",
       "      <th>4</th>\n",
       "      <td>2016-06-23 00:25:00</td>\n",
       "      <td>0.0</td>\n",
       "    </tr>\n",
       "    <tr>\n",
       "      <th>...</th>\n",
       "      <td>...</td>\n",
       "      <td>...</td>\n",
       "    </tr>\n",
       "    <tr>\n",
       "      <th>581088</th>\n",
       "      <td>2021-12-31 23:35:00</td>\n",
       "      <td>9.4</td>\n",
       "    </tr>\n",
       "    <tr>\n",
       "      <th>581089</th>\n",
       "      <td>2021-12-31 23:40:00</td>\n",
       "      <td>9.8</td>\n",
       "    </tr>\n",
       "    <tr>\n",
       "      <th>581090</th>\n",
       "      <td>2021-12-31 23:45:00</td>\n",
       "      <td>9.9</td>\n",
       "    </tr>\n",
       "    <tr>\n",
       "      <th>581091</th>\n",
       "      <td>2021-12-31 23:50:00</td>\n",
       "      <td>12.3</td>\n",
       "    </tr>\n",
       "    <tr>\n",
       "      <th>581092</th>\n",
       "      <td>2021-12-31 23:55:00</td>\n",
       "      <td>13.7</td>\n",
       "    </tr>\n",
       "  </tbody>\n",
       "</table>\n",
       "<p>581093 rows × 2 columns</p>\n",
       "</div>"
      ],
      "text/plain": [
       "             SETTLEMENTDATE  ARWF1\n",
       "0       2016-06-23 00:05:00    0.0\n",
       "1       2016-06-23 00:10:00    0.0\n",
       "2       2016-06-23 00:15:00    0.0\n",
       "3       2016-06-23 00:20:00    0.0\n",
       "4       2016-06-23 00:25:00    0.0\n",
       "...                     ...    ...\n",
       "581088  2021-12-31 23:35:00    9.4\n",
       "581089  2021-12-31 23:40:00    9.8\n",
       "581090  2021-12-31 23:45:00    9.9\n",
       "581091  2021-12-31 23:50:00   12.3\n",
       "581092  2021-12-31 23:55:00   13.7\n",
       "\n",
       "[581093 rows x 2 columns]"
      ]
     },
     "execution_count": 2,
     "metadata": {},
     "output_type": "execute_result"
    }
   ],
   "source": [
    "energy = pd.read_csv('Downloads/ARWF1.csv')\n",
    "energy"
   ]
  },
  {
   "cell_type": "markdown",
   "id": "0477e4c3",
   "metadata": {},
   "source": [
    "Ararat coordinates: 37.24°S 142.98°E <br>\n",
    "Ararat gridpoints: (11, 19)"
   ]
  },
  {
   "cell_type": "code",
   "execution_count": 3,
   "id": "62e67ac6",
   "metadata": {},
   "outputs": [
    {
     "data": {
      "text/plain": [
       "pandas._libs.tslibs.timestamps.Timestamp"
      ]
     },
     "execution_count": 3,
     "metadata": {},
     "output_type": "execute_result"
    }
   ],
   "source": [
    "energy.iloc[:,0] = pd.to_datetime(energy.iloc[:,0], infer_datetime_format = True)\n",
    "energy_2018_bool = energy.SETTLEMENTDATE.dt.year == 2018\n",
    "energy_2018 = energy[energy_2018_bool]\n",
    "energy_night = ~((energy.SETTLEMENTDATE.dt.hour>=6) & (energy.SETTLEMENTDATE.dt.hour<18))\n",
    "energy_2018_night = energy[energy_night & energy_2018_bool]\n",
    "type(energy_2018_night.SETTLEMENTDATE.iloc[0])"
   ]
  },
  {
   "cell_type": "code",
   "execution_count": 4,
   "id": "69d09715",
   "metadata": {},
   "outputs": [
    {
     "data": {
      "text/plain": [
       "Text(0.5, 1.0, 'Average half hourly energy produced Ararat Bridge Windfarm 2018')"
      ]
     },
     "execution_count": 4,
     "metadata": {},
     "output_type": "execute_result"
    },
    {
     "data": {
      "image/png": "[encoded data removed]",
      "text/plain": [
       "<Figure size 432x288 with 1 Axes>"
      ]
     },
     "metadata": {
      "needs_background": "light"
     },
     "output_type": "display_data"
    }
   ],
   "source": [
    "mean_hourly = energy_2018.groupby(energy_2018[\"SETTLEMENTDATE\"].dt.hour).mean()\n",
    "plt.plot(mean_hourly)\n",
    "plt.xlabel('Time')\n",
    "plt.ylabel('Energy in previous half hour (MWh)')\n",
    "plt.title('Average half hourly energy produced Ararat Bridge Windfarm 2018')"
   ]
  },
  {
   "cell_type": "code",
   "execution_count": 19,
   "id": "ec8e1b14",
   "metadata": {},
   "outputs": [
    {
     "name": "stdout",
     "output_type": "stream",
     "text": [
      "45\n"
     ]
    }
   ],
   "source": [
    "gridpoints = 2 # number of gridpoints to analyse either side of centre gridpoint\n",
    "jetnight = xarray.open_dataset('/g/data/v46/lh2344/jetnightsv3')\n",
    "jetnight2 = xarray.DataArray(jetnight.jetnight2_v3, dims = ['time','latitude','longitude'])\n",
    "jetnight2 = jetnight2.isel(latitude = slice(11-gridpoints,11+gridpoints), longitude = slice(19-gridpoints,19+gridpoints))\n",
    "t = np.arange(datetime(2017,12,31,6,0,0), datetime(2018,12,31,6,0,0), timedelta(days=1)).astype(datetime)\n",
    "jetnight2['time'] = t\n",
    "jetnight2_2018 = jetnight2\n",
    "jetnight_true = jetnight2_2018.sum(dim = ['latitude', 'longitude']) > 0\n",
    "print(jetnight_true.sum().data)"
   ]
  },
  {
   "cell_type": "code",
   "execution_count": 20,
   "id": "94d8e617",
   "metadata": {},
   "outputs": [],
   "source": [
    "# On a jetnight an array is created so that every 5 minute timestep within a jetnight is defined at 'True' and\n",
    "# 'False' otherwise\n",
    "jethour_true = np.empty(365*288)\n",
    "for day in range(0,365):\n",
    "    daystart = day*288\n",
    "    dayend = (day*288)+288\n",
    "    for hour in range(daystart,dayend):\n",
    "        jethour_true[hour] = jetnight_true[day]\n",
    "jethour_true.sum()\n",
    "jethour_true = np.array(jethour_true, dtype = bool)"
   ]
  },
  {
   "cell_type": "code",
   "execution_count": 21,
   "id": "d6fc0b95",
   "metadata": {},
   "outputs": [
    {
     "data": {
      "text/html": [
       "<div>\n",
       "<style scoped>\n",
       "    .dataframe tbody tr th:only-of-type {\n",
       "        vertical-align: middle;\n",
       "    }\n",
       "\n",
       "    .dataframe tbody tr th {\n",
       "        vertical-align: top;\n",
       "    }\n",
       "\n",
       "    .dataframe thead th {\n",
       "        text-align: right;\n",
       "    }\n",
       "</style>\n",
       "<table border=\"1\" class=\"dataframe\">\n",
       "  <thead>\n",
       "    <tr style=\"text-align: right;\">\n",
       "      <th></th>\n",
       "      <th>Date</th>\n",
       "      <th>Jetnight?</th>\n",
       "    </tr>\n",
       "  </thead>\n",
       "  <tbody>\n",
       "    <tr>\n",
       "      <th>0</th>\n",
       "      <td>2018-01-01</td>\n",
       "      <td>False</td>\n",
       "    </tr>\n",
       "    <tr>\n",
       "      <th>1</th>\n",
       "      <td>2018-01-02</td>\n",
       "      <td>False</td>\n",
       "    </tr>\n",
       "    <tr>\n",
       "      <th>2</th>\n",
       "      <td>2018-01-03</td>\n",
       "      <td>False</td>\n",
       "    </tr>\n",
       "    <tr>\n",
       "      <th>3</th>\n",
       "      <td>2018-01-04</td>\n",
       "      <td>False</td>\n",
       "    </tr>\n",
       "    <tr>\n",
       "      <th>4</th>\n",
       "      <td>2018-01-05</td>\n",
       "      <td>True</td>\n",
       "    </tr>\n",
       "    <tr>\n",
       "      <th>...</th>\n",
       "      <td>...</td>\n",
       "      <td>...</td>\n",
       "    </tr>\n",
       "    <tr>\n",
       "      <th>360</th>\n",
       "      <td>2018-12-27</td>\n",
       "      <td>True</td>\n",
       "    </tr>\n",
       "    <tr>\n",
       "      <th>361</th>\n",
       "      <td>2018-12-28</td>\n",
       "      <td>False</td>\n",
       "    </tr>\n",
       "    <tr>\n",
       "      <th>362</th>\n",
       "      <td>2018-12-29</td>\n",
       "      <td>False</td>\n",
       "    </tr>\n",
       "    <tr>\n",
       "      <th>363</th>\n",
       "      <td>2018-12-30</td>\n",
       "      <td>False</td>\n",
       "    </tr>\n",
       "    <tr>\n",
       "      <th>364</th>\n",
       "      <td>2018-12-31</td>\n",
       "      <td>True</td>\n",
       "    </tr>\n",
       "  </tbody>\n",
       "</table>\n",
       "<p>365 rows × 2 columns</p>\n",
       "</div>"
      ],
      "text/plain": [
       "          Date Jetnight?\n",
       "0   2018-01-01     False\n",
       "1   2018-01-02     False\n",
       "2   2018-01-03     False\n",
       "3   2018-01-04     False\n",
       "4   2018-01-05      True\n",
       "..         ...       ...\n",
       "360 2018-12-27      True\n",
       "361 2018-12-28     False\n",
       "362 2018-12-29     False\n",
       "363 2018-12-30     False\n",
       "364 2018-12-31      True\n",
       "\n",
       "[365 rows x 2 columns]"
      ]
     },
     "execution_count": 21,
     "metadata": {},
     "output_type": "execute_result"
    }
   ],
   "source": [
    "days = np.arange(datetime(2018,1,1), datetime(2019,1,1), timedelta(days=1)).astype(datetime)\n",
    "jetnight_true1 = pd.DataFrame([days,jetnight_true.to_numpy()])#, columns = ['Day','Jetnight?'])\n",
    "jetnight_truedf = pd.DataFrame(jetnight_true1.T)#, columns = ['Day','Jetnight?'])\n",
    "#jetnight_truedf = jetnight_truedf.iloc[:,0].reset_index()\n",
    "jetnight_truedf.rename(columns = {0:\"Date\", 1: \"Jetnight?\"})"
   ]
  },
  {
   "cell_type": "code",
   "execution_count": 22,
   "id": "da3d29ce",
   "metadata": {},
   "outputs": [
    {
     "ename": "KeyError",
     "evalue": "\"None of ['SETTLEMENTDATE'] are in the columns\"",
     "output_type": "error",
     "traceback": [
      "\u001b[0;31m---------------------------------------------------------------------------\u001b[0m",
      "\u001b[0;31mKeyError\u001b[0m                                  Traceback (most recent call last)",
      "\u001b[0;32m/local/v46/lh2344/tmp/ipykernel_3351433/3209615626.py\u001b[0m in \u001b[0;36m<cell line: 2>\u001b[0;34m()\u001b[0m\n\u001b[1;32m      1\u001b[0m \u001b[0;31m# Time stamp is turned into the index\u001b[0m\u001b[0;34m\u001b[0m\u001b[0;34m\u001b[0m\u001b[0m\n\u001b[0;32m----> 2\u001b[0;31m \u001b[0menergy_2018\u001b[0m \u001b[0;34m=\u001b[0m \u001b[0menergy_2018\u001b[0m\u001b[0;34m.\u001b[0m\u001b[0mset_index\u001b[0m\u001b[0;34m(\u001b[0m\u001b[0;34m[\u001b[0m\u001b[0;34m\"SETTLEMENTDATE\"\u001b[0m\u001b[0;34m]\u001b[0m\u001b[0;34m)\u001b[0m\u001b[0;34m\u001b[0m\u001b[0;34m\u001b[0m\u001b[0m\n\u001b[0m",
      "\u001b[0;32m/g/data/hh5/public/apps/miniconda3/envs/analysis3-22.01/lib/python3.9/site-packages/pandas/util/_decorators.py\u001b[0m in \u001b[0;36mwrapper\u001b[0;34m(*args, **kwargs)\u001b[0m\n\u001b[1;32m    309\u001b[0m                     \u001b[0mstacklevel\u001b[0m\u001b[0;34m=\u001b[0m\u001b[0mstacklevel\u001b[0m\u001b[0;34m,\u001b[0m\u001b[0;34m\u001b[0m\u001b[0;34m\u001b[0m\u001b[0m\n\u001b[1;32m    310\u001b[0m                 )\n\u001b[0;32m--> 311\u001b[0;31m             \u001b[0;32mreturn\u001b[0m \u001b[0mfunc\u001b[0m\u001b[0;34m(\u001b[0m\u001b[0;34m*\u001b[0m\u001b[0margs\u001b[0m\u001b[0;34m,\u001b[0m \u001b[0;34m**\u001b[0m\u001b[0mkwargs\u001b[0m\u001b[0;34m)\u001b[0m\u001b[0;34m\u001b[0m\u001b[0;34m\u001b[0m\u001b[0m\n\u001b[0m\u001b[1;32m    312\u001b[0m \u001b[0;34m\u001b[0m\u001b[0m\n\u001b[1;32m    313\u001b[0m         \u001b[0;32mreturn\u001b[0m \u001b[0mwrapper\u001b[0m\u001b[0;34m\u001b[0m\u001b[0;34m\u001b[0m\u001b[0m\n",
      "\u001b[0;32m/g/data/hh5/public/apps/miniconda3/envs/analysis3-22.01/lib/python3.9/site-packages/pandas/core/frame.py\u001b[0m in \u001b[0;36mset_index\u001b[0;34m(self, keys, drop, append, inplace, verify_integrity)\u001b[0m\n\u001b[1;32m   5449\u001b[0m \u001b[0;34m\u001b[0m\u001b[0m\n\u001b[1;32m   5450\u001b[0m         \u001b[0;32mif\u001b[0m \u001b[0mmissing\u001b[0m\u001b[0;34m:\u001b[0m\u001b[0;34m\u001b[0m\u001b[0;34m\u001b[0m\u001b[0m\n\u001b[0;32m-> 5451\u001b[0;31m             \u001b[0;32mraise\u001b[0m \u001b[0mKeyError\u001b[0m\u001b[0;34m(\u001b[0m\u001b[0;34mf\"None of {missing} are in the columns\"\u001b[0m\u001b[0;34m)\u001b[0m\u001b[0;34m\u001b[0m\u001b[0;34m\u001b[0m\u001b[0m\n\u001b[0m\u001b[1;32m   5452\u001b[0m \u001b[0;34m\u001b[0m\u001b[0m\n\u001b[1;32m   5453\u001b[0m         \u001b[0;32mif\u001b[0m \u001b[0minplace\u001b[0m\u001b[0;34m:\u001b[0m\u001b[0;34m\u001b[0m\u001b[0;34m\u001b[0m\u001b[0m\n",
      "\u001b[0;31mKeyError\u001b[0m: \"None of ['SETTLEMENTDATE'] are in the columns\""
     ]
    }
   ],
   "source": [
    "# Time stamp is turned into the index\n",
    "energy_2018 = energy_2018.set_index([\"SETTLEMENTDATE\"])"
   ]
  },
  {
   "cell_type": "code",
   "execution_count": 23,
   "id": "8708331c",
   "metadata": {},
   "outputs": [],
   "source": [
    "newindex = pd.date_range(start='1/1/2018',end = datetime(2018,12,31,23,55,0), freq = '5T')\n",
    "energy_2018 = energy_2018.reindex(newindex)"
   ]
  },
  {
   "cell_type": "code",
   "execution_count": 24,
   "id": "f7b40cd0",
   "metadata": {},
   "outputs": [],
   "source": [
    "# # remove index 26784,73152\n",
    "# jethour_true = np.delete(jethour_true,[26784,73152])\n",
    "# print(jethour_true.shape)\n",
    "# print(energy_2018.index.shape)"
   ]
  },
  {
   "cell_type": "code",
   "execution_count": 25,
   "id": "a0902fb0",
   "metadata": {
    "scrolled": true
   },
   "outputs": [],
   "source": [
    "energy_2018_jetnight = energy_2018[jethour_true].reset_index().rename(columns={\"index\":\"SETTLEMENTDATE\"})\n",
    "energy_2018_nonjetnight = energy_2018[~jethour_true].reset_index().rename(columns={\"index\":\"SETTLEMENTDATE\"})"
   ]
  },
  {
   "cell_type": "code",
   "execution_count": 26,
   "id": "f039a6ff",
   "metadata": {},
   "outputs": [],
   "source": [
    "energy_2018_jetnight['SETTLEMENTDATE'] = pd.to_datetime(energy_2018_jetnight['SETTLEMENTDATE'])\n",
    "energy_2018_jetnight['minutes'] = energy_2018_jetnight['SETTLEMENTDATE'].apply(lambda x: x.minute)\n",
    "energy_2018_jetnight['hour'] = energy_2018_jetnight['SETTLEMENTDATE'].apply(lambda x: x.hour)\n",
    "\n",
    "energy_2018_nonjetnight['SETTLEMENTDATE'] = pd.to_datetime(energy_2018_nonjetnight['SETTLEMENTDATE'])\n",
    "energy_2018_nonjetnight['minutes'] = energy_2018_nonjetnight['SETTLEMENTDATE'].apply(lambda x: x.minute)\n",
    "energy_2018_nonjetnight['hour'] = energy_2018_nonjetnight['SETTLEMENTDATE'].apply(lambda x: x.hour)"
   ]
  },
  {
   "cell_type": "code",
   "execution_count": 27,
   "id": "b663ca5a",
   "metadata": {
    "scrolled": false
   },
   "outputs": [
    {
     "data": {
      "text/html": [
       "<div><svg style=\"position: absolute; width: 0; height: 0; overflow: hidden\">\n",
       "<defs>\n",
       "<symbol id=\"icon-database\" viewBox=\"0 0 32 32\">\n",
       "<path d=\"M16 0c-8.837 0-16 2.239-16 5v4c0 2.761 7.163 5 16 5s16-2.239 16-5v-4c0-2.761-7.163-5-16-5z\"></path>\n",
       "<path d=\"M16 17c-8.837 0-16-2.239-16-5v6c0 2.761 7.163 5 16 5s16-2.239 16-5v-6c0 2.761-7.163 5-16 5z\"></path>\n",
       "<path d=\"M16 26c-8.837 0-16-2.239-16-5v6c0 2.761 7.163 5 16 5s16-2.239 16-5v-6c0 2.761-7.163 5-16 5z\"></path>\n",
       "</symbol>\n",
       "<symbol id=\"icon-file-text2\" viewBox=\"0 0 32 32\">\n",
       "<path d=\"M28.681 7.159c-0.694-0.947-1.662-2.053-2.724-3.116s-2.169-2.030-3.116-2.724c-1.612-1.182-2.393-1.319-2.841-1.319h-15.5c-1.378 0-2.5 1.121-2.5 2.5v27c0 1.378 1.122 2.5 2.5 2.5h23c1.378 0 2.5-1.122 2.5-2.5v-19.5c0-0.448-0.137-1.23-1.319-2.841zM24.543 5.457c0.959 0.959 1.712 1.825 2.268 2.543h-4.811v-4.811c0.718 0.556 1.584 1.309 2.543 2.268zM28 29.5c0 0.271-0.229 0.5-0.5 0.5h-23c-0.271 0-0.5-0.229-0.5-0.5v-27c0-0.271 0.229-0.5 0.5-0.5 0 0 15.499-0 15.5 0v7c0 0.552 0.448 1 1 1h7v19.5z\"></path>\n",
       "<path d=\"M23 26h-14c-0.552 0-1-0.448-1-1s0.448-1 1-1h14c0.552 0 1 0.448 1 1s-0.448 1-1 1z\"></path>\n",
       "<path d=\"M23 22h-14c-0.552 0-1-0.448-1-1s0.448-1 1-1h14c0.552 0 1 0.448 1 1s-0.448 1-1 1z\"></path>\n",
       "<path d=\"M23 18h-14c-0.552 0-1-0.448-1-1s0.448-1 1-1h14c0.552 0 1 0.448 1 1s-0.448 1-1 1z\"></path>\n",
       "</symbol>\n",
       "</defs>\n",
       "</svg>\n",
       "<style>/* CSS stylesheet for displaying xarray objects in jupyterlab.\n",
       " *\n",
       " */\n",
       "\n",
       ":root {\n",
       "  --xr-font-color0: var(--jp-content-font-color0, rgba(0, 0, 0, 1));\n",
       "  --xr-font-color2: var(--jp-content-font-color2, rgba(0, 0, 0, 0.54));\n",
       "  --xr-font-color3: var(--jp-content-font-color3, rgba(0, 0, 0, 0.38));\n",
       "  --xr-border-color: var(--jp-border-color2, #e0e0e0);\n",
       "  --xr-disabled-color: var(--jp-layout-color3, #bdbdbd);\n",
       "  --xr-background-color: var(--jp-layout-color0, white);\n",
       "  --xr-background-color-row-even: var(--jp-layout-color1, white);\n",
       "  --xr-background-color-row-odd: var(--jp-layout-color2, #eeeeee);\n",
       "}\n",
       "\n",
       "html[theme=dark],\n",
       "body.vscode-dark {\n",
       "  --xr-font-color0: rgba(255, 255, 255, 1);\n",
       "  --xr-font-color2: rgba(255, 255, 255, 0.54);\n",
       "  --xr-font-color3: rgba(255, 255, 255, 0.38);\n",
       "  --xr-border-color: #1F1F1F;\n",
       "  --xr-disabled-color: #515151;\n",
       "  --xr-background-color: #111111;\n",
       "  --xr-background-color-row-even: #111111;\n",
       "  --xr-background-color-row-odd: #313131;\n",
       "}\n",
       "\n",
       ".xr-wrap {\n",
       "  display: block !important;\n",
       "  min-width: 300px;\n",
       "  max-width: 700px;\n",
       "}\n",
       "\n",
       ".xr-text-repr-fallback {\n",
       "  /* fallback to plain text repr when CSS is not injected (untrusted notebook) */\n",
       "  display: none;\n",
       "}\n",
       "\n",
       ".xr-header {\n",
       "  padding-top: 6px;\n",
       "  padding-bottom: 6px;\n",
       "  margin-bottom: 4px;\n",
       "  border-bottom: solid 1px var(--xr-border-color);\n",
       "}\n",
       "\n",
       ".xr-header > div,\n",
       ".xr-header > ul {\n",
       "  display: inline;\n",
       "  margin-top: 0;\n",
       "  margin-bottom: 0;\n",
       "}\n",
       "\n",
       ".xr-obj-type,\n",
       ".xr-array-name {\n",
       "  margin-left: 2px;\n",
       "  margin-right: 10px;\n",
       "}\n",
       "\n",
       ".xr-obj-type {\n",
       "  color: var(--xr-font-color2);\n",
       "}\n",
       "\n",
       ".xr-sections {\n",
       "  padding-left: 0 !important;\n",
       "  display: grid;\n",
       "  grid-template-columns: 150px auto auto 1fr 20px 20px;\n",
       "}\n",
       "\n",
       ".xr-section-item {\n",
       "  display: contents;\n",
       "}\n",
       "\n",
       ".xr-section-item input {\n",
       "  display: none;\n",
       "}\n",
       "\n",
       ".xr-section-item input + label {\n",
       "  color: var(--xr-disabled-color);\n",
       "}\n",
       "\n",
       ".xr-section-item input:enabled + label {\n",
       "  cursor: pointer;\n",
       "  color: var(--xr-font-color2);\n",
       "}\n",
       "\n",
       ".xr-section-item input:enabled + label:hover {\n",
       "  color: var(--xr-font-color0);\n",
       "}\n",
       "\n",
       ".xr-section-summary {\n",
       "  grid-column: 1;\n",
       "  color: var(--xr-font-color2);\n",
       "  font-weight: 500;\n",
       "}\n",
       "\n",
       ".xr-section-summary > span {\n",
       "  display: inline-block;\n",
       "  padding-left: 0.5em;\n",
       "}\n",
       "\n",
       ".xr-section-summary-in:disabled + label {\n",
       "  color: var(--xr-font-color2);\n",
       "}\n",
       "\n",
       ".xr-section-summary-in + label:before {\n",
       "  display: inline-block;\n",
       "  content: '►';\n",
       "  font-size: 11px;\n",
       "  width: 15px;\n",
       "  text-align: center;\n",
       "}\n",
       "\n",
       ".xr-section-summary-in:disabled + label:before {\n",
       "  color: var(--xr-disabled-color);\n",
       "}\n",
       "\n",
       ".xr-section-summary-in:checked + label:before {\n",
       "  content: '▼';\n",
       "}\n",
       "\n",
       ".xr-section-summary-in:checked + label > span {\n",
       "  display: none;\n",
       "}\n",
       "\n",
       ".xr-section-summary,\n",
       ".xr-section-inline-details {\n",
       "  padding-top: 4px;\n",
       "  padding-bottom: 4px;\n",
       "}\n",
       "\n",
       ".xr-section-inline-details {\n",
       "  grid-column: 2 / -1;\n",
       "}\n",
       "\n",
       ".xr-section-details {\n",
       "  display: none;\n",
       "  grid-column: 1 / -1;\n",
       "  margin-bottom: 5px;\n",
       "}\n",
       "\n",
       ".xr-section-summary-in:checked ~ .xr-section-details {\n",
       "  display: contents;\n",
       "}\n",
       "\n",
       ".xr-array-wrap {\n",
       "  grid-column: 1 / -1;\n",
       "  display: grid;\n",
       "  grid-template-columns: 20px auto;\n",
       "}\n",
       "\n",
       ".xr-array-wrap > label {\n",
       "  grid-column: 1;\n",
       "  vertical-align: top;\n",
       "}\n",
       "\n",
       ".xr-preview {\n",
       "  color: var(--xr-font-color3);\n",
       "}\n",
       "\n",
       ".xr-array-preview,\n",
       ".xr-array-data {\n",
       "  padding: 0 5px !important;\n",
       "  grid-column: 2;\n",
       "}\n",
       "\n",
       ".xr-array-data,\n",
       ".xr-array-in:checked ~ .xr-array-preview {\n",
       "  display: none;\n",
       "}\n",
       "\n",
       ".xr-array-in:checked ~ .xr-array-data,\n",
       ".xr-array-preview {\n",
       "  display: inline-block;\n",
       "}\n",
       "\n",
       ".xr-dim-list {\n",
       "  display: inline-block !important;\n",
       "  list-style: none;\n",
       "  padding: 0 !important;\n",
       "  margin: 0;\n",
       "}\n",
       "\n",
       ".xr-dim-list li {\n",
       "  display: inline-block;\n",
       "  padding: 0;\n",
       "  margin: 0;\n",
       "}\n",
       "\n",
       ".xr-dim-list:before {\n",
       "  content: '(';\n",
       "}\n",
       "\n",
       ".xr-dim-list:after {\n",
       "  content: ')';\n",
       "}\n",
       "\n",
       ".xr-dim-list li:not(:last-child):after {\n",
       "  content: ',';\n",
       "  padding-right: 5px;\n",
       "}\n",
       "\n",
       ".xr-has-index {\n",
       "  font-weight: bold;\n",
       "}\n",
       "\n",
       ".xr-var-list,\n",
       ".xr-var-item {\n",
       "  display: contents;\n",
       "}\n",
       "\n",
       ".xr-var-item > div,\n",
       ".xr-var-item label,\n",
       ".xr-var-item > .xr-var-name span {\n",
       "  background-color: var(--xr-background-color-row-even);\n",
       "  margin-bottom: 0;\n",
       "}\n",
       "\n",
       ".xr-var-item > .xr-var-name:hover span {\n",
       "  padding-right: 5px;\n",
       "}\n",
       "\n",
       ".xr-var-list > li:nth-child(odd) > div,\n",
       ".xr-var-list > li:nth-child(odd) > label,\n",
       ".xr-var-list > li:nth-child(odd) > .xr-var-name span {\n",
       "  background-color: var(--xr-background-color-row-odd);\n",
       "}\n",
       "\n",
       ".xr-var-name {\n",
       "  grid-column: 1;\n",
       "}\n",
       "\n",
       ".xr-var-dims {\n",
       "  grid-column: 2;\n",
       "}\n",
       "\n",
       ".xr-var-dtype {\n",
       "  grid-column: 3;\n",
       "  text-align: right;\n",
       "  color: var(--xr-font-color2);\n",
       "}\n",
       "\n",
       ".xr-var-preview {\n",
       "  grid-column: 4;\n",
       "}\n",
       "\n",
       ".xr-var-name,\n",
       ".xr-var-dims,\n",
       ".xr-var-dtype,\n",
       ".xr-preview,\n",
       ".xr-attrs dt {\n",
       "  white-space: nowrap;\n",
       "  overflow: hidden;\n",
       "  text-overflow: ellipsis;\n",
       "  padding-right: 10px;\n",
       "}\n",
       "\n",
       ".xr-var-name:hover,\n",
       ".xr-var-dims:hover,\n",
       ".xr-var-dtype:hover,\n",
       ".xr-attrs dt:hover {\n",
       "  overflow: visible;\n",
       "  width: auto;\n",
       "  z-index: 1;\n",
       "}\n",
       "\n",
       ".xr-var-attrs,\n",
       ".xr-var-data {\n",
       "  display: none;\n",
       "  background-color: var(--xr-background-color) !important;\n",
       "  padding-bottom: 5px !important;\n",
       "}\n",
       "\n",
       ".xr-var-attrs-in:checked ~ .xr-var-attrs,\n",
       ".xr-var-data-in:checked ~ .xr-var-data {\n",
       "  display: block;\n",
       "}\n",
       "\n",
       ".xr-var-data > table {\n",
       "  float: right;\n",
       "}\n",
       "\n",
       ".xr-var-name span,\n",
       ".xr-var-data,\n",
       ".xr-attrs {\n",
       "  padding-left: 25px !important;\n",
       "}\n",
       "\n",
       ".xr-attrs,\n",
       ".xr-var-attrs,\n",
       ".xr-var-data {\n",
       "  grid-column: 1 / -1;\n",
       "}\n",
       "\n",
       "dl.xr-attrs {\n",
       "  padding: 0;\n",
       "  margin: 0;\n",
       "  display: grid;\n",
       "  grid-template-columns: 125px auto;\n",
       "}\n",
       "\n",
       ".xr-attrs dt,\n",
       ".xr-attrs dd {\n",
       "  padding: 0;\n",
       "  margin: 0;\n",
       "  float: left;\n",
       "  padding-right: 10px;\n",
       "  width: auto;\n",
       "}\n",
       "\n",
       ".xr-attrs dt {\n",
       "  font-weight: normal;\n",
       "  grid-column: 1;\n",
       "}\n",
       "\n",
       ".xr-attrs dt:hover span {\n",
       "  display: inline-block;\n",
       "  background: var(--xr-background-color);\n",
       "  padding-right: 10px;\n",
       "}\n",
       "\n",
       ".xr-attrs dd {\n",
       "  grid-column: 2;\n",
       "  white-space: pre-wrap;\n",
       "  word-break: break-all;\n",
       "}\n",
       "\n",
       ".xr-icon-database,\n",
       ".xr-icon-file-text2 {\n",
       "  display: inline-block;\n",
       "  vertical-align: middle;\n",
       "  width: 1em;\n",
       "  height: 1.5em !important;\n",
       "  stroke-width: 0;\n",
       "  stroke: currentColor;\n",
       "  fill: currentColor;\n",
       "}\n",
       "</style><pre class='xr-text-repr-fallback'>&lt;xarray.DataArray &#x27;jetnight2_v3&#x27; (time: 13)&gt;\n",
       "array([0, 9, 8, 6, 4, 0, 0, 0, 0, 3, 3, 4, 8])\n",
       "Coordinates:\n",
       "  * time     (time) datetime64[ns] 2017-12-31 2018-01-31 ... 2018-12-31</pre><div class='xr-wrap' style='display:none'><div class='xr-header'><div class='xr-obj-type'>xarray.DataArray</div><div class='xr-array-name'>'jetnight2_v3'</div><ul class='xr-dim-list'><li><span class='xr-has-index'>time</span>: 13</li></ul></div><ul class='xr-sections'><li class='xr-section-item'><div class='xr-array-wrap'><input id='section-df9191d2-9e14-4dca-ba45-454d83b82ff5' class='xr-array-in' type='checkbox' checked><label for='section-df9191d2-9e14-4dca-ba45-454d83b82ff5' title='Show/hide data repr'><svg class='icon xr-icon-database'><use xlink:href='#icon-database'></use></svg></label><div class='xr-array-preview xr-preview'><span>0 9 8 6 4 0 0 0 0 3 3 4 8</span></div><div class='xr-array-data'><pre>array([0, 9, 8, 6, 4, 0, 0, 0, 0, 3, 3, 4, 8])</pre></div></div></li><li class='xr-section-item'><input id='section-dab0b032-a6da-4e42-94c2-234880aa7c45' class='xr-section-summary-in' type='checkbox'  checked><label for='section-dab0b032-a6da-4e42-94c2-234880aa7c45' class='xr-section-summary' >Coordinates: <span>(1)</span></label><div class='xr-section-inline-details'></div><div class='xr-section-details'><ul class='xr-var-list'><li class='xr-var-item'><div class='xr-var-name'><span class='xr-has-index'>time</span></div><div class='xr-var-dims'>(time)</div><div class='xr-var-dtype'>datetime64[ns]</div><div class='xr-var-preview xr-preview'>2017-12-31 ... 2018-12-31</div><input id='attrs-0288f7c4-1b4a-4c28-a46c-f5e4dcbc3dd4' class='xr-var-attrs-in' type='checkbox' disabled><label for='attrs-0288f7c4-1b4a-4c28-a46c-f5e4dcbc3dd4' title='Show/Hide attributes'><svg class='icon xr-icon-file-text2'><use xlink:href='#icon-file-text2'></use></svg></label><input id='data-7b89f01f-a1df-4c6f-892a-33cccf27ad1e' class='xr-var-data-in' type='checkbox'><label for='data-7b89f01f-a1df-4c6f-892a-33cccf27ad1e' title='Show/Hide data repr'><svg class='icon xr-icon-database'><use xlink:href='#icon-database'></use></svg></label><div class='xr-var-attrs'><dl class='xr-attrs'></dl></div><div class='xr-var-data'><pre>array([&#x27;2017-12-31T00:00:00.000000000&#x27;, &#x27;2018-01-31T00:00:00.000000000&#x27;,\n",
       "       &#x27;2018-02-28T00:00:00.000000000&#x27;, &#x27;2018-03-31T00:00:00.000000000&#x27;,\n",
       "       &#x27;2018-04-30T00:00:00.000000000&#x27;, &#x27;2018-05-31T00:00:00.000000000&#x27;,\n",
       "       &#x27;2018-06-30T00:00:00.000000000&#x27;, &#x27;2018-07-31T00:00:00.000000000&#x27;,\n",
       "       &#x27;2018-08-31T00:00:00.000000000&#x27;, &#x27;2018-09-30T00:00:00.000000000&#x27;,\n",
       "       &#x27;2018-10-31T00:00:00.000000000&#x27;, &#x27;2018-11-30T00:00:00.000000000&#x27;,\n",
       "       &#x27;2018-12-31T00:00:00.000000000&#x27;], dtype=&#x27;datetime64[ns]&#x27;)</pre></div></li></ul></div></li><li class='xr-section-item'><input id='section-6c4b9a67-452f-4bca-9ad5-b50dde7487a5' class='xr-section-summary-in' type='checkbox' disabled ><label for='section-6c4b9a67-452f-4bca-9ad5-b50dde7487a5' class='xr-section-summary'  title='Expand/collapse section'>Attributes: <span>(0)</span></label><div class='xr-section-inline-details'></div><div class='xr-section-details'><dl class='xr-attrs'></dl></div></li></ul></div></div>"
      ],
      "text/plain": [
       "<xarray.DataArray 'jetnight2_v3' (time: 13)>\n",
       "array([0, 9, 8, 6, 4, 0, 0, 0, 0, 3, 3, 4, 8])\n",
       "Coordinates:\n",
       "  * time     (time) datetime64[ns] 2017-12-31 2018-01-31 ... 2018-12-31"
      ]
     },
     "execution_count": 27,
     "metadata": {},
     "output_type": "execute_result"
    }
   ],
   "source": [
    "jetnight_true.resample(time=\"1M\").sum()"
   ]
  },
  {
   "cell_type": "code",
   "execution_count": 28,
   "id": "e04bfa0a",
   "metadata": {},
   "outputs": [],
   "source": [
    "hourly_mean_jetnight = energy_2018_jetnight.groupby(['hour', 'minutes']).mean().reset_index()\n",
    "hourly_mean_jetnight['hours'] = np.arange(0,24,1/12)\n",
    "hourly_mean_jetnight = hourly_mean_jetnight.drop(columns = ['minutes'])\n",
    "\n",
    "hourly_mean_nonjetnight = energy_2018_nonjetnight.groupby(['hour', 'minutes']).mean().reset_index()\n",
    "hourly_mean_nonjetnight['hours'] = np.arange(0,24,1/12)\n",
    "hourly_mean_nonjetnight = hourly_mean_nonjetnight.drop(columns = ['minutes'])"
   ]
  },
  {
   "cell_type": "code",
   "execution_count": 29,
   "id": "0f94e6b8",
   "metadata": {},
   "outputs": [],
   "source": [
    "elecjn_2018 = energy_2018_jetnight.iloc[:,1] # Actual electricity produced at each half hour through 2018\n",
    "elecnonjn_2018 = energy_2018_nonjetnight.iloc[:,1]\n",
    "\n",
    "elecjn_2018np = elecjn_2018.to_numpy().reshape(jetnight_true.sum().data,12*24)\n",
    "elecnonjn_2018np = elecnonjn_2018.to_numpy().reshape((365-jetnight_true.sum().data),12*24)"
   ]
  },
  {
   "cell_type": "code",
   "execution_count": 30,
   "id": "da8ffb21",
   "metadata": {},
   "outputs": [],
   "source": [
    "# Loops for reorganising 5 minute power data into 30 minute energy data (for comparison purposes to Coonooer bridge)\n",
    "thirty_min_energyjn = np.empty([np.shape(elecjn_2018np)[0],48])\n",
    "for day in range(0,45):\n",
    "    for minute in range(0,48):\n",
    "        minstart = minute*6 # first 30 mins, second 30 mins etc...\n",
    "        minend = (minute*6) + 6\n",
    "        thirty_minjn = np.empty(6)\n",
    "        for index, t in enumerate(range(minstart, minend)):\n",
    "            thirty_minjn[index] = elecjn_2018np[day,t]\n",
    "        thirty_min_energyjn[day,minute] = thirty_minjn.mean()*0.5 # mean of each 30 min period & convert to MWh\n",
    "\n",
    "thirty_min_energynonjn = np.empty([np.shape(elecnonjn_2018np)[0],48])\n",
    "for day in range(0,289):\n",
    "    for minute in range(0,48):\n",
    "        minstart = minute*6\n",
    "        minend = (minute*6) + 6\n",
    "        thirty_min_nonjn = np.empty(6)\n",
    "        for index, t in enumerate(range(minstart, minend)):\n",
    "            thirty_min_nonjn[index] = elecnonjn_2018np[day,t]\n",
    "        thirty_min_energynonjn[day,minute] = thirty_min_nonjn.mean()*0.5 # Convert to MWh for 0.5 hours\n",
    "        "
   ]
  },
  {
   "cell_type": "code",
   "execution_count": 31,
   "id": "f0992309",
   "metadata": {},
   "outputs": [
    {
     "name": "stdout",
     "output_type": "stream",
     "text": [
      "(45, 48)\n",
      "(320, 48)\n"
     ]
    }
   ],
   "source": [
    "print(np.shape(thirty_min_energyjn))\n",
    "print(np.shape(thirty_min_energynonjn))"
   ]
  },
  {
   "cell_type": "code",
   "execution_count": 32,
   "id": "8f0c1bc9",
   "metadata": {},
   "outputs": [
    {
     "name": "stdout",
     "output_type": "stream",
     "text": [
      "(48,)\n",
      "(48,)\n"
     ]
    },
    {
     "name": "stderr",
     "output_type": "stream",
     "text": [
      "/g/data/hh5/public/apps/miniconda3/envs/analysis3-22.01/lib/python3.9/site-packages/numpy/core/fromnumeric.py:1970: VisibleDeprecationWarning: Creating an ndarray from ragged nested sequences (which is a list-or-tuple of lists-or-tuples-or ndarrays with different lengths or shapes) is deprecated. If you meant to do this, you must specify 'dtype=object' when creating the ndarray.\n",
      "  result = asarray(a).shape\n"
     ]
    }
   ],
   "source": [
    "# Filter data using np.isnan\n",
    "mask = ~np.isnan(thirty_min_energyjn)\n",
    "elecjn_filter = [d[m] for d, m in zip(thirty_min_energyjn.T, mask.T)]\n",
    "print(np.shape(elecjn_filter))\n",
    "\n",
    "mask = ~np.isnan(thirty_min_energynonjn)\n",
    "elecnonjn_filter = [d[m] for d, m in zip(thirty_min_energynonjn.T, mask.T)]\n",
    "print(np.shape(elecnonjn_filter))"
   ]
  },
  {
   "cell_type": "code",
   "execution_count": 33,
   "id": "bc8a5b4d",
   "metadata": {},
   "outputs": [
    {
     "data": {
      "image/png": "[encoded data removed]",
      "text/plain": [
       "<Figure size 1152x720 with 1 Axes>"
      ]
     },
     "metadata": {
      "needs_background": "light"
     },
     "output_type": "display_data"
    }
   ],
   "source": [
    "# Filter data using np.isnan\n",
    "plt.figure(figsize = (16,10))\n",
    "plt.boxplot(elecjn_filter, manage_ticks = False, showfliers = False, \n",
    "            positions = np.arange(0.25, 48.25, 1), widths = 0.3, patch_artist = True, \n",
    "            boxprops=dict(facecolor='orange', color='orange'),  medianprops=dict(color='black'))\n",
    "plt.xlabel('Time')\n",
    "plt.ylabel('Average energy in previous half hour (MWh)')\n",
    "plt.title('Boxplot of half-hourly energy produced Coonooer Bridge Windfarm 2018 (Jetnights)')\n",
    "plt.xticks(np.arange(0,50,2), labels = np.arange(0,25,1))\n",
    "\n",
    "plt.boxplot(elecnonjn_filter, manage_ticks = False, showfliers = False, \n",
    "            positions = np.arange(0.75, 48.75, 1), widths = 0.3, patch_artist = True, \n",
    "            boxprops=dict(facecolor='green', color='green'),  medianprops=dict(color='white'))\n",
    "plt.xlabel('Time')\n",
    "plt.ylabel('Average energy in previous half hour (MWh)')\n",
    "plt.title('Boxplot of half-hourly energy produced Ararat Windfarm 2018', fontsize = 20)\n",
    "\n",
    "plt.xticks(np.arange(0,50,2), labels = np.arange(0,25,1))\n",
    "\n",
    "hY, = plt.plot([0,1],'orange')\n",
    "hG, = plt.plot([0,10],'green')\n",
    "plt.legend((hY, hG),('Jetnight', 'Non-jet night'), loc = [0,0.94])\n",
    "hY.set_visible(False)\n",
    "hG.set_visible(False)\n",
    "\n",
    "plt.savefig('Ararat boxplot')"
   ]
  },
  {
   "cell_type": "code",
   "execution_count": 23,
   "id": "c586d18e",
   "metadata": {},
   "outputs": [
    {
     "data": {
      "image/png": "[encoded data removed]",
      "text/plain": [
       "<Figure size 432x288 with 2 Axes>"
      ]
     },
     "metadata": {
      "needs_background": "light"
     },
     "output_type": "display_data"
    },
    {
     "data": {
      "image/png": "[encoded data removed]",
      "text/plain": [
       "<Figure size 432x288 with 2 Axes>"
      ]
     },
     "metadata": {
      "needs_background": "light"
     },
     "output_type": "display_data"
    }
   ],
   "source": [
    "bins = 100 # Highest y-value (energy production)\n",
    "histjn = np.empty([12*24,10])\n",
    "histnonjn = np.empty([12*24,10])\n",
    "\n",
    "\n",
    "for i in range(0,12*24): # produces number of values at each energy interval from 1-12\n",
    "    histjn[i,:],_ = np.histogram(elecjn_2018np[:,i], bins = np.arange(0,bins+1,10), density = True)\n",
    "    histnonjn[i,:],_ = np.histogram(elecnonjn_2018np[:,i], bins = np.arange(0,bins+1,10), density = True)\n",
    "\n",
    "#hist.T\n",
    "plt.contourf(np.arange(0,24,1/12), np.arange(0,bins,10), histjn.T, 5, cmap = 'binary') # histogram transposed so contour function reads it as columns rather than rows\n",
    "plt.plot(hourly_mean_jetnight.iloc[:,2],hourly_mean_jetnight.iloc[:,1], label = 'Jetnight')\n",
    "plt.colorbar(label = 'Density of occurence')\n",
    "plt.title('Jetnight Energy Probability Contours')\n",
    "plt.ylabel('Energy produced in previous half hour (MWh)')\n",
    "plt.xlabel('Time')\n",
    "plt.show()\n",
    "\n",
    "plt.contourf(np.arange(0,24,1/12), np.arange(0,bins,10), histnonjn.T, 5, cmap = 'binary')\n",
    "plt.plot(hourly_mean_nonjetnight.iloc[:,2],hourly_mean_nonjetnight.iloc[:,1], label = 'Non-Jetnight')\n",
    "plt.colorbar(label = 'Density of occurence')\n",
    "plt.title('Non-Jetnight Energy Probability Contours')\n",
    "plt.ylabel('Energy produced in previous half hour (MWh)')\n",
    "plt.xlabel('Time')\n",
    "plt.show()\n"
   ]
  },
  {
   "cell_type": "code",
   "execution_count": 24,
   "id": "3834dd65",
   "metadata": {},
   "outputs": [
    {
     "name": "stdout",
     "output_type": "stream",
     "text": [
      "[5 4 3 5 3 0 1 2 3 4 1 2 3 1 3 3 3 0 0 4 4 2 2 3 0 2 2 0 1 3 1 3 3 1 2 1 2\n",
      " 2 4 4 2 2 0 3 2 3 1 1 2 2 4 1 1 0 1 0 1 0 3 1 2 2 0 1 2 1 1 1 1 1 0 1 2 0\n",
      " 2 2 1 1 2 1 2 1 1 3 2 0 0 3 0 0 1 3 0 1 1 2 2 1 1]\n",
      "[ 0  1  2  3  4  5  6  7  8  9 10 11 12 13 14 15 16 17 18 19 20 21 22 23\n",
      " 24 25 26 27 28 29 30 31 32 33 34 35 36 37 38 39 40 41 42 43 44 45 46 47\n",
      " 48 49 50 51 52 53 54 55 56 57 58 59 60 61 62 63 64 65 66 67 68 69 70 71\n",
      " 72 73 74 75 76 77 78 79 80 81 82 83 84 85 86 87 88 89 90 91 92 93 94 95\n",
      " 96 97 98 99]\n",
      "DescribeResult(nobs=320, minmax=(-2.5, 233.8), mean=83.51031221875, variance=5336.311390697857, skewness=0.5169192340297292, kurtosis=-1.1018111834768258)\n"
     ]
    }
   ],
   "source": [
    "# Double checking contour graph makes sense\n",
    "hour = 15*12\n",
    "density, _ = np.histogram(elecnonjn_2018np[:,hour], bins = np.arange(0,100), density = False)\n",
    "_, values = np.histogram(elecnonjn_2018np[:,hour], bins = np.arange(0,100), density = False)\n",
    "print(density)\n",
    "print(values)\n",
    "print(stats.describe(elecnonjn_2018np[:,hour]))"
   ]
  },
  {
   "cell_type": "code",
   "execution_count": 25,
   "id": "d237cdc1",
   "metadata": {},
   "outputs": [],
   "source": [
    "# # Find percentage ramping events\n",
    "# percent_ramp = np.empty(len(energy_2018)-1)\n",
    "# energy_2018_np = energy_2018.to_numpy()\n",
    "# for i in range(0,len(energy_2018)-1):\n",
    "#     if energy_2018_np[i] == 0:\n",
    "#         percent_ramp[i] = np.nan\n",
    "#     else: percent_ramp[i] = ((energy_2018.iloc[i+1] - energy_2018.iloc[i]) / energy_2018.iloc[i]) * 100\n",
    "\n",
    "# #percent_ramp = percent_ramp[~np.isnan(percent_ramp)]"
   ]
  },
  {
   "cell_type": "code",
   "execution_count": 26,
   "id": "555f95ec",
   "metadata": {},
   "outputs": [],
   "source": [
    "# #jethour_true1 = np.delete(jethour_true, 0)\n",
    "# jetnight_ramps = percent_ramp[jethour_true1]\n",
    "# nonjetnight_ramps = percent_ramp[~jethour_true1]"
   ]
  },
  {
   "cell_type": "code",
   "execution_count": 27,
   "id": "83428d09",
   "metadata": {},
   "outputs": [],
   "source": [
    "# print('jethour_true length', len(jethour_true))\n",
    "# print('percent_ramp length', len(percent_ramp))\n",
    "# print('jethour_true1 length', len(jethour_true1))"
   ]
  },
  {
   "cell_type": "code",
   "execution_count": 28,
   "id": "62b0a6a2",
   "metadata": {},
   "outputs": [],
   "source": [
    "# jetnightramp_proportion = np.empty(15)\n",
    "# for index, i in enumerate(np.arange(0,150,10)):\n",
    "#     ramp_all = percent_ramp >= i\n",
    "#     ramp_jetnight = jetnight_ramps >= i\n",
    "#     jetnightramp_proportion[index] = (ramp_jetnight.sum())*100/(ramp_all.sum())\n",
    "    \n",
    "# plt.bar(np.arange(0,150,10), abs(jetnightramp_proportion), width = 8)\n",
    "# plt.title('Percentage of ramps of more than x% occuring on jetnights')\n",
    "# plt.ylabel('Percentage occuring on jetnights')\n",
    "# plt.xlabel('Change in power production from previous half hour (%)')\n",
    "\n",
    "# jetnights_proportion = (jethour_true.sum()*100)/len(jethour_true)\n",
    "# print('Percentage jetnights of all nights', jetnights_proportion, '%')\n",
    "\n",
    "# plt.plot([0,150], [jetnights_proportion,jetnights_proportion], color = 'red', label = 'Jetnights % of all nights')\n",
    "# plt.legend()\n",
    "# plt.savefig('Percentage jetnights of all nights')"
   ]
  },
  {
   "cell_type": "code",
   "execution_count": 29,
   "id": "f0bde844",
   "metadata": {},
   "outputs": [],
   "source": [
    "# plt.hist(abs(nonjetnight_ramps), bins = np.arange(0,140,20), density = False, label = 'Non Jetnight ramps')\n",
    "# plt.title('Histogram of ramping events at Coonooer Bridge')\n",
    "# plt.ylabel('Frequency')\n",
    "# plt.xlabel('Absolute percentage change in energy production from previous half hour')\n",
    "\n",
    "# plt.hist(abs(jetnight_ramps), bins = np.arange(0,140,20), density = False, alpha = 0.5, label = 'Jetnight ramps')\n",
    "# plt.title('Histogram of ramping events at Coonooer Bridge')\n",
    "# plt.ylabel('Probability')\n",
    "# plt.xlabel('Absolute percentage change in energy production from previous half hour')\n",
    "\n",
    "# plt.legend()\n",
    "# plt.yscale('log')\n",
    "# plt.savefig('Histogram of ramping events at Coonooer Bridge')"
   ]
  },
  {
   "cell_type": "code",
   "execution_count": 30,
   "id": "3225b645",
   "metadata": {},
   "outputs": [],
   "source": [
    "# # Checking for statistics regarding proportion of large rampings in jetnights vs non jetnights\n",
    "# jetnight_20, _ = np.histogram(abs(jetnight_ramps), bins = np.arange(0,140,20)) # In 20% intervals\n",
    "# nonjetnight_20, _ = np.histogram(abs(nonjetnight_ramps), bins = np.arange(0,140,20))\n",
    "# n = 2\n",
    "# jetnight_20[n:].sum()/(jetnight_20[n:].sum() + nonjetnight_20[n:].sum())\n"
   ]
  },
  {
   "cell_type": "markdown",
   "id": "ca18a294",
   "metadata": {},
   "source": [
    "### 2 sample statistical tests "
   ]
  },
  {
   "cell_type": "code",
   "execution_count": 31,
   "id": "5f7b5f21",
   "metadata": {},
   "outputs": [
    {
     "name": "stdout",
     "output_type": "stream",
     "text": [
      "(45, 288)\n",
      "(320, 288)\n"
     ]
    }
   ],
   "source": [
    "print(elecjn_2018np.shape)\n",
    "print(elecnonjn_2018np.shape)"
   ]
  },
  {
   "cell_type": "code",
   "execution_count": 32,
   "id": "bea4bb0a",
   "metadata": {},
   "outputs": [
    {
     "data": {
      "text/plain": [
       "array([False, False, False, False, False, False, False, False, False,\n",
       "       False, False, False, False, False, False, False, False, False,\n",
       "       False, False, False, False, False, False, False, False, False,\n",
       "       False, False, False, False, False, False, False, False, False,\n",
       "       False, False, False, False, False, False, False, False, False,\n",
       "       False, False, False, False, False, False, False, False, False,\n",
       "       False, False, False, False, False,  True,  True,  True,  True,\n",
       "        True,  True,  True,  True,  True,  True,  True,  True,  True,\n",
       "        True,  True,  True,  True,  True,  True,  True,  True,  True,\n",
       "        True,  True,  True,  True,  True, False, False, False, False,\n",
       "       False, False, False, False, False, False, False, False, False,\n",
       "       False,  True,  True,  True,  True,  True,  True,  True,  True,\n",
       "        True,  True,  True,  True,  True,  True,  True,  True,  True,\n",
       "        True,  True,  True,  True,  True,  True,  True,  True,  True,\n",
       "        True,  True,  True,  True,  True,  True,  True,  True,  True,\n",
       "        True,  True,  True,  True,  True,  True,  True,  True,  True,\n",
       "        True,  True,  True,  True,  True,  True,  True,  True,  True,\n",
       "        True,  True,  True,  True,  True,  True,  True,  True,  True,\n",
       "        True,  True,  True,  True,  True,  True,  True,  True,  True,\n",
       "        True,  True,  True,  True,  True,  True,  True,  True,  True,\n",
       "        True,  True,  True,  True,  True,  True,  True,  True,  True,\n",
       "        True,  True,  True,  True,  True,  True,  True,  True,  True,\n",
       "        True,  True,  True,  True,  True,  True,  True,  True,  True,\n",
       "        True,  True,  True,  True,  True, False, False, False, False,\n",
       "       False, False, False, False, False, False, False, False, False,\n",
       "       False, False, False, False, False, False, False, False, False,\n",
       "       False, False, False, False, False, False, False, False, False,\n",
       "       False, False, False, False, False, False, False, False, False,\n",
       "       False, False, False, False, False, False, False, False, False,\n",
       "       False, False, False, False, False, False, False, False, False,\n",
       "       False, False, False, False, False, False, False, False, False,\n",
       "       False, False,  True,  True,  True,  True,  True,  True,  True])"
      ]
     },
     "execution_count": 32,
     "metadata": {},
     "output_type": "execute_result"
    }
   ],
   "source": [
    "from statsmodels.stats.weightstats import ztest as ztest\n",
    "\n",
    "z_score = np.empty(12*24)\n",
    "p_value = np.empty(12*24)\n",
    "for i in range(0,12*24):\n",
    "    filtjn, filtnonjn = ~np.isnan(elecjn_2018np[:,i]), ~np.isnan(elecnonjn_2018np[:,i]) # removes nans before passing through significance test\n",
    "    z_score[i], p_value[i] = ztest(elecjn_2018np[:,i][filtjn], elecnonjn_2018np[:,i][filtnonjn], value = 0)\n",
    "\n",
    "\n",
    "significant = p_value < 0.05\n",
    "significant"
   ]
  },
  {
   "cell_type": "code",
   "execution_count": 33,
   "id": "c22e6e85",
   "metadata": {},
   "outputs": [
    {
     "data": {
      "image/png": "[encoded data removed]",
      "text/plain": [
       "<Figure size 720x432 with 1 Axes>"
      ]
     },
     "metadata": {
      "needs_background": "light"
     },
     "output_type": "display_data"
    }
   ],
   "source": [
    "plt.figure(figsize = [10,6])\n",
    "plt.plot(hourly_mean_jetnight.iloc[:,2],hourly_mean_jetnight.iloc[:,1], \n",
    "         label = 'Jetnight (n ='+str(jetnight_true.sum().data)+')')\n",
    "plt.plot(hourly_mean_nonjetnight.iloc[:,2],hourly_mean_nonjetnight.iloc[:,1], \n",
    "         label = 'Non-jetnight (n ='+str(365-jetnight_true.sum().data)+')')\n",
    "plt.xlabel('Time')\n",
    "plt.ylabel('Power (MW)')\n",
    "plt.title('Average 5-minute power produced Ararat Windfarm 2018')\n",
    "plt.xticks(np.arange(0,24))\n",
    "plt.fill_between(np.linspace(0,24,12*24),0,90, where = significant,\n",
    "                 facecolor=\"blue\", # The fill color\n",
    "                 color='blue',       # The outline color\n",
    "                 alpha=0.2, label = 'Region of statistical significance (p < 0.05)')   \n",
    "\n",
    "plt.legend()\n",
    "plt.savefig('Ararat power jetnights (' + str(gridpoints**2) + 'gridpoints)')"
   ]
  },
  {
   "cell_type": "markdown",
   "id": "11891990",
   "metadata": {},
   "source": [
    "### Price Data"
   ]
  },
  {
   "cell_type": "code",
   "execution_count": 62,
   "id": "6d46fc3f",
   "metadata": {},
   "outputs": [],
   "source": [
    "# On a jetnight an array is created so that every half hour timestep within a jetnight is defined at 'True' and\n",
    "# 'False' otherwise\n",
    "jethour_true = np.empty(365*48)\n",
    "for day in range(0,365):\n",
    "    daystart = day*48 #Offset by 12 hours (24 half hours) to start at 12pm instead of midnight\n",
    "    dayend = (day*48)+48 \n",
    "    for hour in range(daystart,dayend):\n",
    "        jethour_true[hour] = jetnight_true[day]\n",
    "jethour_true.sum()\n",
    "#jethour_true = np.delete(jethour_true,[-1])\n",
    "jethour_true = np.array(jethour_true, dtype = bool)"
   ]
  },
  {
   "cell_type": "code",
   "execution_count": 63,
   "id": "ab46e599",
   "metadata": {},
   "outputs": [],
   "source": [
    "price_data = pd.read_csv('Downloads/VIC_2018.csv')\n",
    "price_data.iloc[:,0] = pd.to_datetime(price_data.iloc[:,0], infer_datetime_format = True)\n",
    "price = price_data.set_index('SETTLEMENTDATE').iloc[:,2]\n",
    "energy_2018 = energy_2018.reindex(pd.date_range(start=datetime(2017,12,31,6,0),end = datetime(2018,12,31,5,30,0), \n",
    "                    freq = '5Min'))"
   ]
  },
  {
   "cell_type": "code",
   "execution_count": 64,
   "id": "e49916f6",
   "metadata": {},
   "outputs": [],
   "source": [
    "price_reindexed = price.reindex(energy_2018.index).dropna()\n",
    "energy_reindexed = energy_2018.reindex(price.index).dropna()\n",
    "revenue = price_reindexed * energy_reindexed.iloc[:,0] # $/MWh * MWh\n",
    "revenue = revenue.to_frame()\n",
    "revenue['time'] = revenue.index\n",
    "revenue['hour'] = revenue.time.dt.hour\n",
    "revenue['minute'] = revenue.time.dt.minute\n",
    "jetnight_revenue = revenue[jethour_true[37:]] #remove 6:00 31-12 to 00:00 1-1 (37 half hours)\n",
    "nonjetnight_revenue = revenue[~jethour_true[37:]]\n"
   ]
  },
  {
   "cell_type": "code",
   "execution_count": 65,
   "id": "441a908f",
   "metadata": {},
   "outputs": [
    {
     "data": {
      "text/plain": [
       "<matplotlib.legend.Legend at 0x7f503a00beb0>"
      ]
     },
     "execution_count": 65,
     "metadata": {},
     "output_type": "execute_result"
    },
    {
     "data": {
      "image/png": "[encoded data removed]",
      "text/plain": [
       "<Figure size 432x288 with 1 Axes>"
      ]
     },
     "metadata": {
      "needs_background": "light"
     },
     "output_type": "display_data"
    }
   ],
   "source": [
    "jetnight_hourly_revenue = jetnight_revenue.groupby(['hour','minute']).mean()\n",
    "nonjetnight_hourly_revenue = nonjetnight_revenue.groupby(['hour','minute']).mean()\n",
    "plt.plot(np.arange(0,24,0.5), jetnight_hourly_revenue, label = 'jetnight')\n",
    "plt.plot(np.arange(0,24,0.5), nonjetnight_hourly_revenue, label = 'non-jet night')\n",
    "plt.legend()"
   ]
  },
  {
   "cell_type": "code",
   "execution_count": null,
   "id": "8686683a",
   "metadata": {},
   "outputs": [],
   "source": []
  }
 ],
 "metadata": {
  "kernelspec": {
   "display_name": "Python 3 (ipykernel)",
   "language": "python",
   "name": "python3"
  },
  "language_info": {
   "codemirror_mode": {
    "name": "ipython",
    "version": 3
   },
   "file_extension": ".py",
   "mimetype": "text/x-python",
   "name": "python",
   "nbconvert_exporter": "python",
   "pygments_lexer": "ipython3",
   "version": "3.9.12"
  }
 },
 "nbformat": 4,
 "nbformat_minor": 5
}
