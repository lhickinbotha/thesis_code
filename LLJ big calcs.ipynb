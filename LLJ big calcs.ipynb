{
 "cells": [
  {
   "cell_type": "code",
   "execution_count": 1,
   "id": "dd954a9a",
   "metadata": {},
   "outputs": [],
   "source": [
    "import matplotlib as mpl\n",
    "from scipy.io import netcdf\n",
    "import matplotlib\n",
    "#from numpy import *\n",
    "import numpy as np\n",
    "import matplotlib.pyplot as plt\n",
    "from netCDF4 import Dataset\n",
    "import datetime\n",
    "from datetime import datetime, timedelta\n",
    "import cartopy.crs as ccrs\n",
    "import matplotlib.colors as mcolors\n",
    "import xarray\n",
    "import metpy.interpolate\n",
    "#%matplotlib inline"
   ]
  },
  {
   "cell_type": "code",
   "execution_count": 2,
   "id": "3ffee73f",
   "metadata": {},
   "outputs": [],
   "source": [
    "#Check memory: ps aux  | awk '{print $6/1024 \" MB\\t\\t\" $11}'  | sort -nr | head -10"
   ]
  },
  {
   "cell_type": "code",
   "execution_count": 5,
   "id": "181da875",
   "metadata": {
    "scrolled": false
   },
   "outputs": [],
   "source": [
    "# creates lists for each variable with file names of each 6 hour timestep for specified number of days\n",
    "\n",
    "dstart = datetime(2015, 1, 1, 0, 0, 0)\n",
    "ndays = 1096+365 # 3 years including 1 leap year\n",
    "nfiles = 4\n",
    "fnameu = []\n",
    "fnamev = []\n",
    "fnamephi = []\n",
    "\n",
    "for t in np.arange(0,ndays):\n",
    "    \n",
    "    for i in np.arange(0, nfiles):\n",
    "\n",
    "        datefmt = '{:%Y%m%dT%H%M}'.format(dstart)\n",
    "        dateyear = '{:%Y}'.format(dstart)\n",
    "        dateday = '{:%m}'.format(dstart)\n",
    "    \n",
    "        fnameu.append('/g/data/cj37/BARRA/BARRA_R/v1/forecast/prs/wnd_ucmp/'+dateyear+'/'+dateday+'/wnd_ucmp-fc-prs-PT1H-BARRA_R-v1-'+datefmt+'Z.sub.nc')\n",
    "        fnamev.append('/g/data/cj37/BARRA/BARRA_R/v1/forecast/prs/wnd_vcmp/'+dateyear+'/'+dateday+'/wnd_vcmp-fc-prs-PT1H-BARRA_R-v1-'+datefmt+'Z.sub.nc')\n",
    "        fnamephi.append('/g/data/cj37/BARRA_R/v1/forecast/prs/geop_ht/'+dateyear+'/'+dateday+'/geop_ht-fc-prs-PT1H-BARRA_R-v1-'+datefmt+'Z.sub.nc')\n",
    "\n",
    "        dstart =  dstart + timedelta(hours=6)\n",
    "    \n",
    "    dstart =  dstart + timedelta(hours=0)\n",
    "    \n"
   ]
  },
  {
   "cell_type": "code",
   "execution_count": 6,
   "id": "ab9e4f8f",
   "metadata": {},
   "outputs": [],
   "source": [
    "chunks = {'time': 1, 'level': -1} #god knows what this does but seems to work\n",
    "u = xarray.open_mfdataset(fnameu, chunks = chunks, engine = 'netcdf4').wnd_ucmp\n",
    "v = xarray.open_mfdataset(fnamev, chunks = chunks, engine = 'netcdf4').wnd_vcmp\n",
    "# height = xarray.open_mfdataset(fnamephi, chunks = chunks).geop_ht\n",
    "\n",
    "# topog = xarray.open_dataset('Downloads/topog-an-slv-PT0H-BARRA_R-v1-20150207T0000Z.nc')\n",
    "# topog = topog.topog"
   ]
  },
  {
   "cell_type": "code",
   "execution_count": null,
   "id": "bce8eaec",
   "metadata": {},
   "outputs": [],
   "source": [
    "nj = 40\n",
    "ni = 83\n",
    "nt = ndays*24\n",
    "\n",
    "jstart = 241\n",
    "jend = jstart + nj\n",
    "istart = 690\n",
    "iend = istart + ni\n",
    "pstart = 28\n",
    "pend = 37\n",
    "plevels = pend-pstart\n",
    "\n",
    "us = u.isel\n",
    "\n",
    "\n",
    "us = u[:, pstart:pend,jstart:jend,istart:iend]\n",
    "vs = v[:,pstart:pend,jstart:jend,istart:iend]\n",
    "heights = height[:,pstart:pend,jstart:jend,istart:iend] #10 pressure levels\n",
    "topog = topog[jstart:jend,istart:iend]\n",
    "\n",
    "lon2d, lat2d = np.meshgrid(us.longitude.data, us.latitude.data)\n",
    "\n",
    "# Calculate the wind and height\n",
    "wind = np.sqrt(us**2 + vs**2)\n",
    "height = heights #geopotential height at 6 pressure levels - geoheight already in metres in BARRA (no need to divide by gravity)"
   ]
  },
  {
   "cell_type": "code",
   "execution_count": null,
   "id": "1df84d0f",
   "metadata": {},
   "outputs": [],
   "source": [
    "wind = windnp"
   ]
  },
  {
   "cell_type": "code",
   "execution_count": null,
   "id": "08901c3c",
   "metadata": {},
   "outputs": [],
   "source": [
    "print('height (MB): ', height.nbytes/1024**2)\n",
    "print('us (MB): ', us.nbytes/1024**2)\n",
    "print('vs (MB): ', vs.nbytes/1024**2)\n",
    "print('wind (MB): ', wind.nbytes/1024**2)"
   ]
  },
  {
   "cell_type": "code",
   "execution_count": null,
   "id": "c34c94a5",
   "metadata": {
    "scrolled": true
   },
   "outputs": [],
   "source": [
    "# We test on time=0 only for speed. Add a loop on time. Need to compute to use metpy. It doesn't work lazily. \n",
    "# But that's not a problem for memory with 1 timestep\n",
    "heights = xarray.DataArray(np.empty([nt,plevels,nj,ni]), dims = (\"time\",\"isosurf\",\"latitude\",\"longitude\")) #create empty xarray dataframe\n",
    "winds = xarray.DataArray(np.empty([nt,plevels,nj,ni]), dims = (\"time\",\"isosurf\",\"latitude\",\"longitude\") )\n",
    "heights_std = np.arange(100.0,1200.0,100.0) # Up to 1200m\n",
    "agl = xarray.DataArray(np.empty([nt,plevels,nj,ni])) # agl = above ground level\n",
    "\n",
    "# Define coordinates for the data on isosurfaces\n",
    "coords_isosurf={\n",
    "    winds.dims[0]:winds.coords[winds.dims[0]],\n",
    "    \"isosurf\":heights_std,\n",
    "    winds.dims[2]:winds.coords[winds.dims[2]],   # latitude name and dimension\n",
    "    winds.dims[3]:winds.coords[winds.dims[3]]    # longitude name and dimension\n",
    "}\n",
    "wsprof_interp = xarray.DataArray(np.empty([winds.shape[0],heights_std.shape[0],winds.shape[2],winds.shape[3]]), \n",
    "                                 dims=(winds.dims[0],\"isosurf\",winds.dims[2],winds.dims[3]),\n",
    "                                 coords=coords_isosurf) #numpy.empty([heights_std.shape[0],wind0.shape[1],wind0.shape[2]])\n",
    "\n",
    "for t in np.arange(0,6*nfiles*ndays):\n",
    "    \n",
    "    heights[t,...]=height[t,...].compute() #geopotential height at 9 pressure levels\n",
    "    winds[t,...]=wind[t,...].compute() #windspeed at 9 pressure levels\n",
    "    agl[t,...]=heights[t,...] - topog #height above ground level (topography accounted for)\n",
    "\n",
    "    \n",
    "    # Interpolate for all locations at once\n",
    "    for niso,isosurf in enumerate(heights_std):\n",
    "        #windspeed profile above ground level\n",
    "        wsprof_interp[t,niso,...] = metpy.interpolate.interpolate_to_isosurface(agl.data[t,...], winds.data[t,...], isosurf)\n"
   ]
  },
  {
   "cell_type": "code",
   "execution_count": null,
   "id": "e4cdfb47",
   "metadata": {},
   "outputs": [],
   "source": [
    "print('heights (MB): ', heights.nbytes/1024**2)\n",
    "print('winds (MB): ', winds.nbytes/1024**2)\n",
    "print('agl (MB): ', agl.nbytes/1024**2)"
   ]
  },
  {
   "cell_type": "code",
   "execution_count": null,
   "id": "50ad4009",
   "metadata": {},
   "outputs": [],
   "source": [
    "# data = xarray.open_dataset('LLJ_sept2016.nc')\n",
    "# topog = xarray.open_dataset('Downloads/topog-an-slv-PT0H-BARRA_R-v1-20150207T0000Z.nc')\n",
    "# # wsprof_interp = data.wsprof_interp\n",
    "# # lon2d = data.lon2d\n",
    "# # lat2d = data.lat2d\n",
    "# topog = topog.topog\n",
    "# topog = topog[jstart:jend,istart:iend]"
   ]
  },
  {
   "cell_type": "code",
   "execution_count": null,
   "id": "30c43a79",
   "metadata": {},
   "outputs": [],
   "source": [
    "# profmax_ind = np.argmax(wsprof_interp.data[:,1:10,...], axis=1) + 1 # must add 1 if starting at index = 1\n",
    "\n",
    "# profmax_ind_above = profmax_ind + 1\n",
    "# profmax_ind_below = profmax_ind - 1      \n",
    "    "
   ]
  },
  {
   "cell_type": "code",
   "execution_count": null,
   "id": "5b30e450",
   "metadata": {},
   "outputs": [],
   "source": [
    "# profmax_ind_above = xarray.DataArray(profmax_ind_above, dims=(\"time\",\"latitude\",\"longitude\"))  \n",
    "# profmax_ind_below = xarray.DataArray(profmax_ind_below, dims=(\"time\",\"latitude\",\"longitude\"))\n",
    "# profmax_ind = xarray.DataArray(profmax_ind, dims=(\"time\",\"latitude\",\"longitude\"))\n"
   ]
  },
  {
   "cell_type": "code",
   "execution_count": null,
   "id": "a20adcc2",
   "metadata": {},
   "outputs": [],
   "source": [
    "# profmax_ind_above.max()"
   ]
  },
  {
   "cell_type": "code",
   "execution_count": null,
   "id": "10d23a4c",
   "metadata": {},
   "outputs": [],
   "source": [
    "# wsabove = wsprof_interp.isel(isosurf = profmax_ind_above) #windspeed above max evaluated on isosurf axis\n",
    "# profmax = wsprof_interp.isel(isosurf = profmax_ind)\n",
    "# wsbelow = wsprof_interp.isel(isosurf = profmax_ind_below) #windspeed below\n",
    "\n",
    "# print(wsabove.nbytes/1000**2)"
   ]
  },
  {
   "cell_type": "code",
   "execution_count": null,
   "id": "974a6a91",
   "metadata": {},
   "outputs": [],
   "source": [
    "# # variable criteria algorithm\n",
    "\n",
    "# fixed_criteria = 1\n",
    "# variable_criteria = 0.1 # windspeed above and below is more than x% below the maxima\n",
    "# percent =  1 - variable_criteria \n",
    "\n",
    "# speed_crit = profmax > 7\n",
    "# below_crit = wsbelow <= percent * profmax\n",
    "# above_crit = wsabove <= percent * profmax\n",
    "\n",
    "# jetbinary_variable = (speed_crit & below_crit & above_crit) * 1\n",
    "\n",
    "# # fixed criteria algorithm\n",
    "# jetbinary_fixed = ((profmax - wsabove >= fixed_criteria) & (profmax - wsbelow >= fixed_criteria)) * 1\n"
   ]
  },
  {
   "cell_type": "code",
   "execution_count": null,
   "id": "6b23f2d5",
   "metadata": {},
   "outputs": [],
   "source": [
    "# totaljets_variable = np.zeros([nj,ni])\n",
    "# totaljets_fixed = np.zeros([nj,ni])\n",
    "# for t in np.arange(0,nt):\n",
    "#     totaljets_variable = totaljets_variable + jetbinary_variable[t,...]\n",
    "#     totaljets_fixed = totaljets_fixed + jetbinary_fixed[t,...]\n"
   ]
  },
  {
   "cell_type": "code",
   "execution_count": null,
   "id": "0ea9e57f",
   "metadata": {},
   "outputs": [],
   "source": [
    "# def contourplot(profile):#, **latstart, **latend, **lonstart, **lonend):\n",
    "#     levels = np.arange(0,profile.max(),1)\n",
    "#     plt.figure(figsize=(12, 12))\n",
    "#     src = ccrs.PlateCarree()\n",
    "#     ax = plt.axes(projection=src)\n",
    "#     ax.coastlines('50m', linewidth=1)\n",
    "#     cmap=matplotlib.cm.get_cmap('RdPu')\n",
    "#     cax,kw = matplotlib.colorbar.make_axes(ax,location='bottom',pad=0.05,shrink=0.7)\n",
    "#     lh = ax.gridlines(xlocs=range(131,171,1), ylocs=range(-39,-27,1),draw_labels=True)\n",
    "#     lh.top_labels = False\n",
    "#     lh.right_labels = False\n",
    "#     #lon = lon2d.isel(dim_0 = slice(31,33), dim_1= slice(80,82))\n",
    "#     #lat = lat2d.isel(dim_0 = slice(31,33), dim_1= slice(80,82))\n",
    "#     ch = ax.contourf(lon2d, lat2d, profile, levels, extend = 'both',cmap=cmap)\n",
    "#     out=plt.colorbar(ch,cax=cax,**kw)\n",
    "#     out.set_label('Frequency',size=10)"
   ]
  },
  {
   "cell_type": "code",
   "execution_count": null,
   "id": "cf7cafb3",
   "metadata": {},
   "outputs": [],
   "source": [
    "# s = totaljets_variable#.isel(latitude = slice(31,33), longitude= slice(80,82))\n",
    "# contourplot(s)\n"
   ]
  },
  {
   "cell_type": "code",
   "execution_count": null,
   "id": "3c7e4eb1",
   "metadata": {},
   "outputs": [],
   "source": [
    "# def gridpoints(latitude, longitude):\n",
    "#     lat = np.linspace(lat2d.min(), lat2d.max(), nj) #min, max lat\n",
    "#     lon = np.linspace(lon2d.min(),lon2d.max(),ni) #min, max lon\n",
    "#     abs_val_lat, abs_val_lon = np.abs(lat - latitude), np.abs(lon - longitude)\n",
    "#     lat_grid, lon_grid  =  abs_val_lat.argmin(), abs_val_lon.argmin()\n",
    "#     return lat_grid, lon_grid\n",
    "#     print('lat,lon', lat_grid,',', lon_grid)\n",
    "# gridpoints(-35.5,146.75)\n",
    "# gridpoints(-36,146.5)"
   ]
  },
  {
   "cell_type": "code",
   "execution_count": null,
   "id": "dc2e3041",
   "metadata": {},
   "outputs": [],
   "source": [
    "wsprof_interp.nbytes/1024**2"
   ]
  },
  {
   "cell_type": "markdown",
   "id": "34717047",
   "metadata": {},
   "source": [
    "### Save to net cdf file"
   ]
  },
  {
   "cell_type": "code",
   "execution_count": null,
   "id": "bf30510f",
   "metadata": {},
   "outputs": [],
   "source": [
    "# Write to net cdf file\n",
    "lon2d = xarray.DataArray(lon2d, name = 'lon2d')\n",
    "lat2d = xarray.DataArray(lat2d, name = 'lat2d')\n",
    "wsprof_interp = xarray.DataArray(wsprof_interp, name = 'wsprof_interp')\n",
    "\n",
    "data = xarray.merge([lon2d, lat2d, wsprof_interp], compat = 'override')\n",
    "data.to_netcdf('/g/data/v46/lh2344/LLJ_2015_17.nc')"
   ]
  },
  {
   "cell_type": "markdown",
   "id": "2d18c25e",
   "metadata": {},
   "source": [
    "### Concatenate multiple years"
   ]
  },
  {
   "cell_type": "code",
   "execution_count": null,
   "id": "18fe7315",
   "metadata": {},
   "outputs": [],
   "source": [
    "t1517 = np.arange(dstart, datetime(2015,1,1,0,0,0) + timedelta(hours=nt), timedelta(hours=1)).astype(datetime)\n",
    "t18 = np.arange(datetime(2018,1,1,0,0,0), datetime(2018,1,1,0,0,0) + timedelta(hours=(365*24)), timedelta(hours=1)).astype(datetime)"
   ]
  },
  {
   "cell_type": "code",
   "execution_count": null,
   "id": "8395e2eb",
   "metadata": {},
   "outputs": [],
   "source": [
    "LLJ_2015_17 = xarray.open_dataset('/g/data/v46/lh2344/LLJ_2015_17.nc')\n",
    "LLJ_2015_17[\"time\"] = t1517\n",
    "LLJ_2018 = xarray.open_dataset('/g/data/v46/lh2344/LLJ_2018.nc')\n",
    "LLJ_2018[\"time\"] = t18\n",
    "LLJ_2015_18 = xarray.concat([LLJ_2015_17, LLJ_2018], dim = \"time\")"
   ]
  },
  {
   "cell_type": "code",
   "execution_count": null,
   "id": "8428d45b",
   "metadata": {},
   "outputs": [],
   "source": [
    "LLJ_2015_18.to_netcdf('/g/data/v46/lh2344/LLJ_2015_18.nc')"
   ]
  }
 ],
 "metadata": {
  "kernelspec": {
   "display_name": "Python 3 (ipykernel)",
   "language": "python",
   "name": "python3"
  },
  "language_info": {
   "codemirror_mode": {
    "name": "ipython",
    "version": 3
   },
   "file_extension": ".py",
   "mimetype": "text/x-python",
   "name": "python",
   "nbconvert_exporter": "python",
   "pygments_lexer": "ipython3",
   "version": "3.9.12"
  }
 },
 "nbformat": 4,
 "nbformat_minor": 5
}
